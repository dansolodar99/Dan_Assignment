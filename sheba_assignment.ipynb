{
 "cells": [
  {
   "cell_type": "markdown",
   "id": "19e40d8f",
   "metadata": {},
   "source": [
    "# Solution Explanation"
   ]
  },
  {
   "cell_type": "markdown",
   "id": "68f1d66e",
   "metadata": {},
   "source": [
    "I classiifed the Swedish leaf dataset into leaves belong to Ulmus trees (Ulmus carpinifolia (folder no.1 in the dataset) and Ulmus glabra (folder no. 9 in the dataset)) and leaves that don't (all the other trees in the dataset).\n",
    "For the model I used a pre-trained VGG16 model and added layers on top of it for binary classification."
   ]
  },
  {
   "cell_type": "markdown",
   "id": "783d539f",
   "metadata": {},
   "source": [
    "#    Data Loading and preprocessing"
   ]
  },
  {
   "cell_type": "code",
   "execution_count": 1,
   "id": "a834886f",
   "metadata": {},
   "outputs": [],
   "source": [
    "from tensorflow.keras import layers\n",
    "from tensorflow.keras.models import Model\n",
    "from tensorflow.keras.optimizers import Adam\n",
    "import os\n",
    "import cv2\n",
    "import numpy as np"
   ]
  },
  {
   "cell_type": "code",
   "execution_count": 2,
   "id": "1fef7eed",
   "metadata": {},
   "outputs": [],
   "source": [
    "def load_leaves_from_folder(foldername):\n",
    "    images = []\n",
    "    for filename in os.listdir(foldername):\n",
    "        img = cv2.imread(os.path.join(foldername,filename))\n",
    "        if img is not None:\n",
    "            img = cv2.resize(img,(224,224))\n",
    "            images.append(img)\n",
    "    return images"
   ]
  },
  {
   "cell_type": "code",
   "execution_count": 3,
   "id": "28594de3",
   "metadata": {},
   "outputs": [],
   "source": [
    "# load the data and set their labels - 1 for ulmus leaves, 0 to non ulmus\n",
    "\n",
    "data =[]\n",
    "for leaf in load_leaves_from_folder(\"ulmus_leaves\"):\n",
    "    data.append([leaf,1])\n",
    "for leaf in load_leaves_from_folder(\"not_ulmus_leaves\"):\n",
    "    data.append([leaf,0])"
   ]
  },
  {
   "cell_type": "code",
   "execution_count": 4,
   "id": "abc3aa98",
   "metadata": {},
   "outputs": [],
   "source": [
    "x = []\n",
    "y = []\n",
    "for leaf in data:\n",
    "    x.append(leaf[0])\n",
    "    y.append(leaf[1])\n",
    "\n",
    "x = np.array(x)\n",
    "y = np.array(y)   "
   ]
  },
  {
   "cell_type": "code",
   "execution_count": 5,
   "id": "6676c239",
   "metadata": {},
   "outputs": [],
   "source": [
    "from sklearn.model_selection import train_test_split\n",
    "\n",
    "# split the data to train and test\n",
    "X_train, X_test, y_train, y_test = train_test_split(x, y, test_size=0.3)"
   ]
  },
  {
   "cell_type": "markdown",
   "id": "1ad5cd88",
   "metadata": {},
   "source": [
    "# Model Building and Training"
   ]
  },
  {
   "cell_type": "markdown",
   "id": "1eb81483",
   "metadata": {},
   "source": [
    "The pre-trained model which I used is a VGG16 model trained on the imagenet dataset. \n",
    "The last output layer is removed, and the layers are set to be untrainable in order to keep the original weights"
   ]
  },
  {
   "cell_type": "code",
   "execution_count": 6,
   "id": "aca76935",
   "metadata": {},
   "outputs": [],
   "source": [
    "from tensorflow.keras.applications.vgg16 import VGG16\n",
    "\n",
    "base_model = VGG16(input_shape = (224, 224, 3), include_top = False, weights = 'imagenet')\n",
    "\n",
    "for layer in base_model.layers:\n",
    "    layer.trainable = False"
   ]
  },
  {
   "cell_type": "code",
   "execution_count": 7,
   "id": "4b2d3df6",
   "metadata": {},
   "outputs": [
    {
     "name": "stdout",
     "output_type": "stream",
     "text": [
      "Model: \"vgg16\"\n",
      "_________________________________________________________________\n",
      " Layer (type)                Output Shape              Param #   \n",
      "=================================================================\n",
      " input_1 (InputLayer)        [(None, 224, 224, 3)]     0         \n",
      "                                                                 \n",
      " block1_conv1 (Conv2D)       (None, 224, 224, 64)      1792      \n",
      "                                                                 \n",
      " block1_conv2 (Conv2D)       (None, 224, 224, 64)      36928     \n",
      "                                                                 \n",
      " block1_pool (MaxPooling2D)  (None, 112, 112, 64)      0         \n",
      "                                                                 \n",
      " block2_conv1 (Conv2D)       (None, 112, 112, 128)     73856     \n",
      "                                                                 \n",
      " block2_conv2 (Conv2D)       (None, 112, 112, 128)     147584    \n",
      "                                                                 \n",
      " block2_pool (MaxPooling2D)  (None, 56, 56, 128)       0         \n",
      "                                                                 \n",
      " block3_conv1 (Conv2D)       (None, 56, 56, 256)       295168    \n",
      "                                                                 \n",
      " block3_conv2 (Conv2D)       (None, 56, 56, 256)       590080    \n",
      "                                                                 \n",
      " block3_conv3 (Conv2D)       (None, 56, 56, 256)       590080    \n",
      "                                                                 \n",
      " block3_pool (MaxPooling2D)  (None, 28, 28, 256)       0         \n",
      "                                                                 \n",
      " block4_conv1 (Conv2D)       (None, 28, 28, 512)       1180160   \n",
      "                                                                 \n",
      " block4_conv2 (Conv2D)       (None, 28, 28, 512)       2359808   \n",
      "                                                                 \n",
      " block4_conv3 (Conv2D)       (None, 28, 28, 512)       2359808   \n",
      "                                                                 \n",
      " block4_pool (MaxPooling2D)  (None, 14, 14, 512)       0         \n",
      "                                                                 \n",
      " block5_conv1 (Conv2D)       (None, 14, 14, 512)       2359808   \n",
      "                                                                 \n",
      " block5_conv2 (Conv2D)       (None, 14, 14, 512)       2359808   \n",
      "                                                                 \n",
      " block5_conv3 (Conv2D)       (None, 14, 14, 512)       2359808   \n",
      "                                                                 \n",
      " block5_pool (MaxPooling2D)  (None, 7, 7, 512)         0         \n",
      "                                                                 \n",
      "=================================================================\n",
      "Total params: 14,714,688\n",
      "Trainable params: 0\n",
      "Non-trainable params: 14,714,688\n",
      "_________________________________________________________________\n"
     ]
    }
   ],
   "source": [
    "base_model.summary()"
   ]
  },
  {
   "cell_type": "markdown",
   "id": "8afe95c6",
   "metadata": {},
   "source": [
    "On top of the pre-trained VGG16 I added a fully connected (dense) layer, then a dropout of 0.5 to prevent overfitting and an output dense layer with a singal output activated by the sigmoid function for binary classification. \n",
    "The model is optimized via Adam optimizer and a binary crossentropy loss."
   ]
  },
  {
   "cell_type": "code",
   "execution_count": 8,
   "id": "fa65e846",
   "metadata": {},
   "outputs": [
    {
     "name": "stderr",
     "output_type": "stream",
     "text": [
      "C:\\Users\\talso\\anaconda3\\lib\\site-packages\\keras\\optimizer_v2\\adam.py:105: UserWarning: The `lr` argument is deprecated, use `learning_rate` instead.\n",
      "  super(Adam, self).__init__(name, **kwargs)\n"
     ]
    }
   ],
   "source": [
    "x = layers.Flatten()(base_model.output)\n",
    "\n",
    "x = layers.Dense(512, activation='relu')(x)\n",
    "\n",
    "x = layers.Dropout(0.5)(x)\n",
    "\n",
    "x = layers.Dense(1, activation='sigmoid')(x)\n",
    "\n",
    "model = Model(base_model.input, x)\n",
    "\n",
    "model.compile(optimizer = Adam(lr=0.0001), loss = 'binary_crossentropy',metrics = ['accuracy'])"
   ]
  },
  {
   "cell_type": "code",
   "execution_count": 9,
   "id": "e3e67372",
   "metadata": {},
   "outputs": [
    {
     "name": "stdout",
     "output_type": "stream",
     "text": [
      "Epoch 1/10\n",
      "16/16 [==============================] - 139s 9s/step - loss: 1.3168 - accuracy: 0.9072\n",
      "Epoch 2/10\n",
      "16/16 [==============================] - 152s 9s/step - loss: 0.3714 - accuracy: 0.9708\n",
      "Epoch 3/10\n",
      "16/16 [==============================] - 149s 9s/step - loss: 0.1691 - accuracy: 0.9873\n",
      "Epoch 4/10\n",
      "16/16 [==============================] - 153s 10s/step - loss: 0.0609 - accuracy: 0.9936\n",
      "Epoch 5/10\n",
      "16/16 [==============================] - 158s 10s/step - loss: 0.0460 - accuracy: 0.9962\n",
      "Epoch 6/10\n",
      "16/16 [==============================] - 161s 10s/step - loss: 0.0085 - accuracy: 0.9975\n",
      "Epoch 7/10\n",
      "16/16 [==============================] - 156s 10s/step - loss: 0.0267 - accuracy: 0.9962\n",
      "Epoch 8/10\n",
      "16/16 [==============================] - 159s 10s/step - loss: 0.0093 - accuracy: 0.9987\n",
      "Epoch 9/10\n",
      "16/16 [==============================] - 164s 10s/step - loss: 0.0367 - accuracy: 0.9924\n",
      "Epoch 10/10\n",
      "16/16 [==============================] - 167s 10s/step - loss: 0.0890 - accuracy: 0.9911\n"
     ]
    }
   ],
   "source": [
    "mode_train = model.fit(X_train,y_train,epochs=10,batch_size=50)"
   ]
  },
  {
   "cell_type": "markdown",
   "id": "64fb69ce",
   "metadata": {},
   "source": [
    "# Prediction and Evaluation"
   ]
  },
  {
   "cell_type": "code",
   "execution_count": 10,
   "id": "f76b3e17",
   "metadata": {},
   "outputs": [],
   "source": [
    "preds = model.predict(X_test)"
   ]
  },
  {
   "cell_type": "code",
   "execution_count": 11,
   "id": "9038b1c8",
   "metadata": {},
   "outputs": [],
   "source": [
    "# threshold the output values to zeros and ones for evaluation\n",
    "\n",
    "preds_binary =[]\n",
    "for pred in preds:\n",
    "    if pred > 0.5:\n",
    "        preds_binary.append(1)\n",
    "    else:\n",
    "        preds_binary.append(0)"
   ]
  },
  {
   "cell_type": "code",
   "execution_count": 12,
   "id": "d6905aeb",
   "metadata": {},
   "outputs": [
    {
     "data": {
      "text/plain": [
       "array([[295,   2],\n",
       "       [  0,  41]], dtype=int64)"
      ]
     },
     "execution_count": 12,
     "metadata": {},
     "output_type": "execute_result"
    }
   ],
   "source": [
    "from sklearn.metrics import confusion_matrix, classification_report\n",
    "\n",
    "confusion_matrix(preds_binary, y_test)"
   ]
  },
  {
   "cell_type": "code",
   "execution_count": 13,
   "id": "55a63b62",
   "metadata": {},
   "outputs": [
    {
     "name": "stdout",
     "output_type": "stream",
     "text": [
      "              precision    recall  f1-score   support\n",
      "\n",
      "           0       1.00      0.99      1.00       297\n",
      "           1       0.95      1.00      0.98        41\n",
      "\n",
      "    accuracy                           0.99       338\n",
      "   macro avg       0.98      1.00      0.99       338\n",
      "weighted avg       0.99      0.99      0.99       338\n",
      "\n"
     ]
    }
   ],
   "source": [
    "print(classification_report(preds_binary, y_test))"
   ]
  },
  {
   "cell_type": "markdown",
   "id": "3915ed4a",
   "metadata": {},
   "source": [
    "# Conclusion"
   ]
  },
  {
   "cell_type": "markdown",
   "id": "91624b55",
   "metadata": {},
   "source": [
    "The model got good results - accuracy, recall, precision and f1-score of about 99%. Because of the good results and that the data includes pretty many different sizes and positions of leaves, I didn't use data augmentations on the dataset. If needed a more versatille model, some augmentations can be added like rotations, flippings and etc to handle more different leaf positions and sizes."
   ]
  }
 ],
 "metadata": {
  "kernelspec": {
   "display_name": "Python 3 (ipykernel)",
   "language": "python",
   "name": "python3"
  },
  "language_info": {
   "codemirror_mode": {
    "name": "ipython",
    "version": 3
   },
   "file_extension": ".py",
   "mimetype": "text/x-python",
   "name": "python",
   "nbconvert_exporter": "python",
   "pygments_lexer": "ipython3",
   "version": "3.9.7"
  }
 },
 "nbformat": 4,
 "nbformat_minor": 5
}
